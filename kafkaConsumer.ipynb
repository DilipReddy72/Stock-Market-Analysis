from kafka import KafkaConsumer
from time import sleep
from json import dumps,loads
import json

